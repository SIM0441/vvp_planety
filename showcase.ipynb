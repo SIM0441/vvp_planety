{
 "cells": [
  {
   "cell_type": "markdown",
   "id": "fe26ce78",
   "metadata": {},
   "source": [
    "<p style=\"text-align: center; font-size:30px;\">SIMULATING THE MOVEMENT OF PLANETS IN 2D</p>\n"
   ]
  },
  {
   "cell_type": "markdown",
   "id": "65faba99",
   "metadata": {},
   "source": [
    "- This notebook demonstrates a 2D simulation of planetary motion using Newton's laws of gravity.\n",
    "We will load input data from a JSON file, run the simulation, and visualize the results using static graphs and animations.\n"
   ]
  },
  {
   "cell_type": "code",
   "execution_count": null,
   "id": "eb5772e9",
   "metadata": {},
   "outputs": [],
   "source": [
    "%matplotlib widget\n",
    "from physics.physics import load_from_json, seconds_in_a_day, main_simulation_loop, generate_and_save_random_properties\n",
    "from graphs.graphs import plot_full_system, plot_detailed_solar_system, animate_detailed_solar_system, animate_full_system\n",
    "import os\n",
    "import matplotlib.image as mpimg\n",
    "from typing import List, Dict, Optional\n",
    "import numpy as np\n",
    "from numpy.typing import NDArray"
   ]
  },
  {
   "cell_type": "markdown",
   "id": "92200f2a",
   "metadata": {},
   "source": [
    "<p style=\"text-align: center; font-size:25px;\">LOADING DATA</p>"
   ]
  },
  {
   "cell_type": "markdown",
   "id": "a646e18c",
   "metadata": {},
   "source": [
    "- To load our prepared data into a list of Planet objects, we'll use the custom load_from_json function."
   ]
  },
  {
   "cell_type": "code",
   "execution_count": null,
   "id": "40e874ee",
   "metadata": {},
   "outputs": [],
   "source": [
    "json_path = os.path.join(\"data\", \"planets.json\")\n",
    "planets = load_from_json(json_path)\n",
    "print(f\"{len(planets)} celestial bodies loaded.\")"
   ]
  },
  {
   "cell_type": "markdown",
   "id": "c62d737f",
   "metadata": {},
   "source": [
    "- Or we could use the generate_and_save_random_properties function to get a fresh random data set every time."
   ]
  },
  {
   "cell_type": "code",
   "execution_count": null,
   "id": "0312cdf3",
   "metadata": {},
   "outputs": [],
   "source": [
    "json_path = os.path.join(\"data\", \"random_bodies.json\")\n",
    "planets = generate_and_save_random_properties(15, json_path)"
   ]
  },
  {
   "cell_type": "markdown",
   "id": "ccdeb2cb",
   "metadata": {},
   "source": [
    "<p style=\"text-align: center; font-size:25px;\">LOADING PNG'S</p>"
   ]
  },
  {
   "cell_type": "markdown",
   "id": "6b7bc212",
   "metadata": {},
   "source": [
    "- If the entry data set is planets.json we can load images for each planet to make the animations nicer."
   ]
  },
  {
   "cell_type": "code",
   "execution_count": null,
   "id": "fe7d7050",
   "metadata": {},
   "outputs": [],
   "source": [
    "\n",
    "current_dir = os.path.dirname(os.path.abspath(__file__)) if '__file__' in globals() else os.getcwd()\n",
    "is_solar_system_file = \"planets.json\" in os.path.basename(json_path).lower()\n",
    "images: Optional[Dict[str, NDArray[np.float32]]] = None\n",
    "if is_solar_system_file:\n",
    "    print(\"Loading planet png's...\")\n",
    "    images_dir: str = os.path.join(current_dir, \"images\")\n",
    "    planet_names: List[str] = ['Sun', 'Mercury', 'Venus', 'Earth', 'Mars', 'Jupiter', 'Saturn', 'Uranus', 'Neptune']\n",
    "    images = {}\n",
    "    for name in planet_names:\n",
    "        path = os.path.join(images_dir, f\"{name.lower()}.png\")\n",
    "        if os.path.exists(path):\n",
    "            images[name] = mpimg.imread(path)\n",
    "            print(f\"{name} [OK] \")\n",
    "        else:\n",
    "            print(f\"{name}.png not found\")\n",
    "    if not images:\n",
    "        print(\"Couldn't load any png's.\")\n",
    "else:\n",
    "    print(\"The list of Planets doesn't contain the planets.json data set\")"
   ]
  },
  {
   "cell_type": "markdown",
   "id": "3d37f135",
   "metadata": {},
   "source": [
    "<p style=\"text-align: center; font-size:25px;\">SETTING SIMULATION PARAMETERS</p>"
   ]
  },
  {
   "cell_type": "markdown",
   "id": "611bdfaf",
   "metadata": {},
   "source": [
    " - The function that simulates the movement of celestial bodies, for simplicity let's call them planets, takes three parameters: the total duration of the simulation, the time step between each simulation step, and a list of Planet objects to simulate."
   ]
  },
  {
   "cell_type": "markdown",
   "id": "bdda1e95",
   "metadata": {},
   "source": [
    " - Having already loaded the planets, we can now select the remaining two parameters:"
   ]
  },
  {
   "cell_type": "code",
   "execution_count": null,
   "id": "759dc5cd",
   "metadata": {},
   "outputs": [],
   "source": [
    "dt = 36000.0                                                            # (s)\n",
    "years_to_simulate = 10.0                                                # (years)\n",
    "simulation_duration = seconds_in_a_day * 365.25 * years_to_simulate     # (s)"
   ]
  },
  {
   "cell_type": "markdown",
   "id": "5b1088d8",
   "metadata": {},
   "source": [
    "- And run the simulation"
   ]
  },
  {
   "cell_type": "code",
   "execution_count": null,
   "id": "39970c33",
   "metadata": {},
   "outputs": [],
   "source": [
    "main_simulation_loop(planets, dt, simulation_duration)"
   ]
  },
  {
   "cell_type": "markdown",
   "id": "6ce0da44",
   "metadata": {},
   "source": [
    "<p style=\"text-align: center; font-size:25px;\">DATA VISUALISATION</p>"
   ]
  },
  {
   "cell_type": "markdown",
   "id": "2afde1fc",
   "metadata": {},
   "source": [
    "##### 1.) Full graph of all the planets and their trajectories"
   ]
  },
  {
   "cell_type": "code",
   "execution_count": null,
   "id": "24b784dd",
   "metadata": {},
   "outputs": [],
   "source": [
    "plot_full_system(planets, images, years_to_simulate, dt)"
   ]
  },
  {
   "cell_type": "markdown",
   "id": "3812463f",
   "metadata": {},
   "source": [
    "##### 2.) Detailed graph of the inner planets in the solar system and their trajectories:"
   ]
  },
  {
   "cell_type": "code",
   "execution_count": null,
   "id": "e5644047",
   "metadata": {},
   "outputs": [],
   "source": [
    "if is_solar_system_file:\n",
    "    plot_detailed_solar_system(planets, images, years_to_simulate, dt)\n",
    "else:\n",
    "    print(\"To showcase the detailed graph, change the planets data origin to planets.json\")"
   ]
  },
  {
   "cell_type": "markdown",
   "id": "7160850b",
   "metadata": {},
   "source": [
    "##### 3.) Full animation of all the planets and their trajectories:"
   ]
  },
  {
   "cell_type": "code",
   "execution_count": null,
   "id": "22da011d",
   "metadata": {},
   "outputs": [],
   "source": [
    "ani = animate_full_system(planets, images, years_to_simulate, dt)\n",
    "ani"
   ]
  },
  {
   "cell_type": "markdown",
   "id": "7f51dcc3",
   "metadata": {},
   "source": [
    " - To save a smoother animation of the full system into our prepared animations_graph directory we can run:"
   ]
  },
  {
   "cell_type": "code",
   "execution_count": null,
   "id": "0dda7cda",
   "metadata": {},
   "outputs": [],
   "source": [
    "ani.save('animations_graphs/full_animation.mp4')"
   ]
  },
  {
   "cell_type": "markdown",
   "id": "4609a6a5",
   "metadata": {},
   "source": [
    "##### 4.) Detailed animation of the inner planets of the solar system:"
   ]
  },
  {
   "cell_type": "code",
   "execution_count": null,
   "id": "9f077ad0",
   "metadata": {},
   "outputs": [],
   "source": [
    "if is_solar_system_file:\n",
    "    ani_2 = animate_detailed_solar_system(planets, images, years_to_simulate, dt)\n",
    "    ani_2\n",
    "else:\n",
    "    print(\"To showcase the detailed animation, change the planets data origin to planets.json\")"
   ]
  },
  {
   "cell_type": "markdown",
   "id": "2077dbf5",
   "metadata": {},
   "source": [
    " - For a better look we can save the detailed animation into our prepared animations_graph directory by running:"
   ]
  },
  {
   "cell_type": "code",
   "execution_count": null,
   "id": "f06a6ebc",
   "metadata": {},
   "outputs": [],
   "source": [
    "if is_solar_system_file:\n",
    "    ani_2.save('animations_graphs/detailed_animation.mp4')\n",
    "    print(\"Detailed animation saved to: 'detailed_animation.mp4'.\")\n",
    "else:\n",
    "    print(\"To showcase and save the detailed animation, change the planets data origin to planets.json\")"
   ]
  }
 ],
 "metadata": {
  "kernelspec": {
   "display_name": "Python 3",
   "language": "python",
   "name": "python3"
  },
  "language_info": {
   "codemirror_mode": {
    "name": "ipython",
    "version": 3
   },
   "file_extension": ".py",
   "mimetype": "text/x-python",
   "name": "python",
   "nbconvert_exporter": "python",
   "pygments_lexer": "ipython3",
   "version": "3.10.12"
  }
 },
 "nbformat": 4,
 "nbformat_minor": 5
}
